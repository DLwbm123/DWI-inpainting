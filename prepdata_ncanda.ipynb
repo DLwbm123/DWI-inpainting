{
 "cells": [
  {
   "cell_type": "markdown",
   "metadata": {},
   "source": [
    "# Prepare diffusion weighted images for input into models - NCANDA"
   ]
  },
  {
   "cell_type": "markdown",
   "metadata": {},
   "source": [
    "### Load libraries and image paths"
   ]
  },
  {
   "cell_type": "code",
   "execution_count": null,
   "metadata": {},
   "outputs": [],
   "source": [
    "import nibabel as nib\n",
    "import numpy as np\n",
    "import matplotlib.pyplot as plt\n",
    "from nilearn.plotting import plot_anat\n",
    "from scipy.ndimage import zoom\n",
    "\n",
    "dwi_files = np.loadtxt('ncanda_train_files.txt', dtype=str)\n",
    "\n",
    "# Load images\n",
    "def loadb0(img_file, as_type = 'nib', normalize = True, resize = True):\n",
    "    # as_type should either be nib for nibabel format or np for numpy array\n",
    "    if as_type not in ['nib', 'np']:\n",
    "        raise TypeError('Incorrect option for as_type. Use either nib or np.')\n",
    "    # Load image\n",
    "    img = nib.load(img_file)\n",
    "    img_fixed = img.get_fdata()\n",
    "    # Normalize intensity to range of 0 to 1\n",
    "    if normalize:\n",
    "        img_fixed = (img_fixed - np.min(img_fixed, axis = (0,1,2))) / (np.max(img_fixed, axis = (0,1,2)) - np.min(img_fixed, axis = (0,1,2)))\n",
    "    if resize:\n",
    "        if img_fixed.shape[0] != 96:\n",
    "            img_fixed = zoom(img_fixed, (0.75,0.75,1))\n",
    "    if as_type == 'np':\n",
    "        return img_fixed\n",
    "    elif as_type == 'nib':\n",
    "        # Reform as image data type\n",
    "        img_fixed = nib.Nifti1Image(img_fixed, np.eye(4))\n",
    "        return img_fixed"
   ]
  },
  {
   "cell_type": "markdown",
   "metadata": {},
   "source": [
    "### Visualize a random sample image"
   ]
  },
  {
   "cell_type": "code",
   "execution_count": null,
   "metadata": {},
   "outputs": [],
   "source": [
    "dwi1 = loadb0(dwi_files[0], resize = False)\n",
    "dwi2 = loadb0(dwi_files[0], resize = True)\n",
    "fig, ax = plt.subplots(2,1,figsize = (16,8))\n",
    "plot_anat(dwi1, axes = ax[0], vmin = -0.1, vmax = 0.3)\n",
    "plot_anat(dwi2, axes = ax[1], vmin = -0.1, vmax = 0.3)\n",
    "plt.show()"
   ]
  },
  {
   "cell_type": "markdown",
   "metadata": {},
   "source": [
    "### Data augmentation"
   ]
  },
  {
   "cell_type": "markdown",
   "metadata": {},
   "source": [
    "We will need to perform data augmentation to expand our training set. We can do this by adding small rotations, translations, adding noise, or changing brightness and contrast. Let's create a function that can perform this and test it on a sample image."
   ]
  },
  {
   "cell_type": "code",
   "execution_count": null,
   "metadata": {},
   "outputs": [],
   "source": [
    "from scipy.ndimage import rotate, shift\n",
    "from skimage.util import random_noise\n",
    "\n",
    "def add_rotation(image3d, amount, axis):\n",
    "    if isinstance(image3d, nib.nifti1.Nifti1Image):\n",
    "        img = image3d.get_fdata()\n",
    "    else:\n",
    "        img = np.array(image3d)\n",
    "    \n",
    "    axes = [0,1,2]\n",
    "    axes.remove(axis)\n",
    "    # Apply rotation\n",
    "    img_rotated = rotate(img, amount, axes = tuple(axes), reshape = False)\n",
    "    \n",
    "    if isinstance(image3d, nib.nifti1.Nifti1Image):\n",
    "        img_rotated = nib.Nifti1Image(img_rotated, np.eye(4))\n",
    "    \n",
    "    return img_rotated\n",
    "\n",
    "def add_translation(image3d, amount, axis):\n",
    "    if isinstance(image3d, nib.nifti1.Nifti1Image):\n",
    "        img = image3d.get_fdata()\n",
    "    else:\n",
    "        img = np.array(image3d)\n",
    "        \n",
    "    shift_apply = np.zeros((3,))\n",
    "    shift_apply[axis] = amount\n",
    "    # Apply translation\n",
    "    img_translated = shift(img, shift_apply)\n",
    "    \n",
    "    if isinstance(image3d, nib.nifti1.Nifti1Image):\n",
    "        img_translated = nib.Nifti1Image(img_translated, np.eye(4))\n",
    "        \n",
    "    return img_translated\n",
    "\n",
    "def add_noise(image3d, amount = 0.0001):\n",
    "    if isinstance(image3d, nib.nifti1.Nifti1Image):\n",
    "        img = image3d.get_fdata()\n",
    "    else:\n",
    "        img = np.array(image3d)\n",
    "    \n",
    "    noisy_img = random_noise(img, mode = 'gaussian', clip = True, var = amount)\n",
    "    \n",
    "    if isinstance(image3d, nib.nifti1.Nifti1Image):\n",
    "        noisy_img = nib.Nifti1Image(noisy_img, np.eye(4))\n",
    "    \n",
    "    return noisy_img\n",
    "\n",
    "idx = np.random.choice(dwi_files.shape[0], 1)[0]\n",
    "dwi = loadb0(dwi_files[idx])\n",
    "print('Adding rotation')\n",
    "dwi_rotated = add_rotation(dwi, 10, 0)\n",
    "print('Adding translation')\n",
    "dwi_translated = add_translation(dwi, 10, 2)\n",
    "print('Adding noise')\n",
    "dwi_noisy = add_noise(dwi)\n",
    "\n",
    "plt.close('all')\n",
    "fig,ax = plt.subplots(4,1, figsize = (16,14))\n",
    "plot_anat(dwi, axes = ax[0], vmin = -0.1, vmax = 0.3, cut_coords = (50,70,40))\n",
    "ax[0].set_title('original')\n",
    "plot_anat(dwi_rotated, axes = ax[1], vmin = -0.1, vmax = 0.3, cut_coords = (50,70,40))\n",
    "ax[1].set_title('rotated 10 degrees')\n",
    "plot_anat(dwi_translated, axes = ax[2], vmin = -0.1, vmax = 0.3, cut_coords = (50,70,40))\n",
    "ax[2].set_title('translated 10 voxels')\n",
    "plot_anat(dwi_noisy, axes = ax[3], vmin = -0.1, vmax = 0.3, cut_coords = (50,70,40))\n",
    "ax[3].set_title('noisy')\n",
    "plt.show()"
   ]
  },
  {
   "cell_type": "code",
   "execution_count": null,
   "metadata": {},
   "outputs": [],
   "source": [
    "idx = np.random.choice(dwi_files.shape[0], 1)[0]\n",
    "dwi = loadb0(dwi_files[idx], dwi2b0, resize = True)\n",
    "print('Adding rotation')\n",
    "dwi_rotated = add_rotation(index_img(dwi,0), 10, 0)\n",
    "print('Adding translation')\n",
    "dwi_translated = add_translation(index_img(dwi,0), 10, 0)\n",
    "print('Adding noise')\n",
    "dwi_noisy = add_noise(index_img(dwi,0))\n",
    "\n",
    "plt.close('all')\n",
    "fig,ax = plt.subplots(4,1, figsize = (16,14))\n",
    "plot_anat(index_img(dwi, 0), axes = ax[0], vmin = -0.1, vmax = 0.3, cut_coords = (80,70,60))\n",
    "ax[0].set_title('original')\n",
    "plot_anat(dwi_rotated, axes = ax[1], vmin = -0.1, vmax = 0.3, cut_coords = (80,70,60))\n",
    "ax[1].set_title('rotated 10 degrees')\n",
    "plot_anat(dwi_translated, axes = ax[2], vmin = -0.1, vmax = 0.3, cut_coords = (80,70,60))\n",
    "ax[2].set_title('translated 10 voxels')\n",
    "plot_anat(dwi_noisy, axes = ax[3], vmin = -0.1, vmax = 0.3, cut_coords = (80,70,60))\n",
    "ax[3].set_title('noisy')\n",
    "plt.show()"
   ]
  },
  {
   "cell_type": "code",
   "execution_count": null,
   "metadata": {},
   "outputs": [],
   "source": [
    "import os\n",
    "\n",
    "file_list = []\n",
    "num_files = dwi_files.shape[0] // 2\n",
    "file_idx = np.random.randint(0, dwi_files.shape[0], size = num_files)\n",
    "for ind,file_path in enumerate(dwi_files[file_idx]):\n",
    "    #if ind < 130: continue\n",
    "    #print('Augmenting ' + file_path)\n",
    "    print('Processing %d of %d files' % ((ind + 1), dwi_files[file_idx].shape[0]))\n",
    "    subj = file_path.split('/')[-4].split('_')[-1]\n",
    "    filenum = file_path.split('/')[-1].split('.')[0].split('-')[-1]\n",
    "    dwi = loadb0(file_path, as_type = 'np')\n",
    "    # Original file\n",
    "    prefix = 'ncanda/traindata/' + subj\n",
    "    if not os.path.exists(prefix):\n",
    "        os.makedirs(prefix)\n",
    "    if '1.nii.gz' in file_path or '2.nii.gz' in file_path:\n",
    "        prefix = prefix + '/b0vol' + filenum\n",
    "    else:\n",
    "        prefix = prefix + '/nonb0vol' + filenum\n",
    "    savename = prefix + '_original.npy'\n",
    "    np.save(savename, dwi)\n",
    "    file_list.append(savename)\n",
    "    # Rotate and translate\n",
    "    i = 1\n",
    "    for amount in [-10, 10]:\n",
    "        for axis in [0,1,2]:\n",
    "            dwi_preprocess = add_rotation(dwi, amount, axis)\n",
    "            savename = prefix + '_rotate' + str(i) + '.npy'\n",
    "            np.save(savename, dwi_preprocess)\n",
    "            file_list.append(savename)\n",
    "            if axis != 2:\n",
    "                dwi_preprocess = add_translation(dwi, amount, axis)\n",
    "                savename = prefix + '_translate' + str(i) + '.npy'\n",
    "                np.save(savename, dwi_preprocess)\n",
    "                file_list.append(savename)\n",
    "            i += 1\n",
    "#     # Noise\n",
    "#     dwi_preprocess = add_noise(dwi)\n",
    "#     savename = prefix + '_noisy.npy'\n",
    "#     np.save(savename, dwi_preprocess)\n",
    "#     file_list.append(savename)\n",
    "print('Number of training samples: ' + str(len(file_list)))\n",
    "\n",
    "np.savetxt('ncanda/X_files.txt', file_list, fmt = '%s')"
   ]
  }
 ],
 "metadata": {
  "kernelspec": {
   "display_name": "Python 3",
   "language": "python",
   "name": "python3"
  },
  "language_info": {
   "codemirror_mode": {
    "name": "ipython",
    "version": 3
   },
   "file_extension": ".py",
   "mimetype": "text/x-python",
   "name": "python",
   "nbconvert_exporter": "python",
   "pygments_lexer": "ipython3",
   "version": "3.7.7"
  }
 },
 "nbformat": 4,
 "nbformat_minor": 4
}
